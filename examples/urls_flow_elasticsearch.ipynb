{
 "worksheets": [
  {
   "cells": [
    {
     "cell_type": "heading",
     "metadata": {},
     "level": 1,
     "source": [
      "URL Access Analysis"
     ]
    },
    {
     "cell_type": "heading",
     "metadata": {},
     "level": 3,
     "source": [
      "Imports"
     ]
    },
    {
     "cell_type": "code",
     "metadata": {},
     "outputs": [],
     "input": [
      "%pylab inline\n",
      "from IPython.display import display\n",
      "import pandas as pd\n",
      "import numpy as np\n",
      "import os\n",
      "import re\n",
      "from collections import OrderedDict\n",
      "from performance_tools.urls_flow.backends import ElasticURLFlowBackend"
     ],
     "language": "python"
    },
    {
     "cell_type": "heading",
     "metadata": {},
     "level": 3,
     "source": [
      "Pandas options"
     ]
    },
    {
     "cell_type": "code",
     "metadata": {},
     "outputs": [],
     "input": [
      "pd.set_option('display.max_rows', 10000)\n",
      "pd.set_option('display.max_columns', 10000)\n",
      "pd.set_option('display.width', 200)"
     ],
     "language": "python"
    },
    {
     "cell_type": "heading",
     "metadata": {},
     "level": 3,
     "source": [
      "CSV input file"
     ]
    },
    {
     "cell_type": "code",
     "metadata": {},
     "outputs": [],
     "input": [
      "_csv_filename = 'ebo_production_test_16-03_20-03.csv'\n",
      "csv_file = os.path.realpath(os.path.join(os.path.curdir, _csv_filename))"
     ],
     "language": "python"
    },
    {
     "cell_type": "heading",
     "metadata": {},
     "level": 2,
     "source": [
      "Get data from backend"
     ]
    },
    {
     "cell_type": "heading",
     "metadata": {},
     "level": 3,
     "source": [
      "Query parameters"
     ]
    },
    {
     "cell_type": "code",
     "metadata": {},
     "outputs": [],
     "input": [
      "host = '127.0.0.1'\n",
      "port = 9200\n",
      "query = \"\"\"(type: \\\"nginx-access\\\") AND (host: \\\"hostname\\\") AND\n",
      "        (NOT ((referrer: (\n",
      "                    \\\"site_media\\\" OR\n",
      "                    \\\"files\\\" OR\n",
      "                    \\\"static\\\" OR\n",
      "                    \\\"login\\\" OR\n",
      "                    \\\"ping\\\" OR\n",
      "                    \\\"apple-touch\\\" OR\n",
      "                    \\\"robots.txt\\\" OR\n",
      "                    \\\"favicon.ico\\\" OR\n",
      "                    \\\"index.php\\\" OR\n",
      "                    \\\"password/reset\\\")) OR\n",
      "        '(request: (\\\"site_media\\\" OR\n",
      "                    \\\"files\\\" OR\n",
      "                    \\\"static\\\" OR\n",
      "                    \\\"login\\\" OR\n",
      "                    \\\"ping\\\" OR\n",
      "                    \\\"apple-touch\\\" OR\n",
      "                    \\\"robots.txt\\\" OR\n",
      "                    \\\"favicon.ico\\\" OR\n",
      "                    \\\"index.php\\\" OR\n",
      "                    \\\"password/reset\\\"\n",
      "        ))))\"\"\"\n",
      "date_from = '2015-03-16T08:00:00.000Z'\n",
      "date_to = '2015-03-20T20:00:00.000Z'\n",
      "size = 50"
     ],
     "language": "python"
    },
    {
     "cell_type": "heading",
     "metadata": {},
     "level": 3,
     "source": [
      "Backend instance"
     ]
    },
    {
     "cell_type": "code",
     "metadata": {},
     "outputs": [],
     "input": [
      "es = ElasticURLFlowBackend(host=host, port=port, query=query, date_from=date_from, date_to=date_to, size=size)"
     ],
     "language": "python"
    },
    {
     "cell_type": "heading",
     "metadata": {},
     "level": 3,
     "source": [
      "Regular expression to normalize IDs in each URL"
     ]
    },
    {
     "cell_type": "code",
     "metadata": {},
     "outputs": [],
     "input": [
      "REGEX = re.compile(r'/(([A-Z0-9]{3,4})?(TR|BEN|CLI|CON|PI)\\d+|[A-Z]{3}|[-0-9a-fA-F,_]*[-0-9,_]+[-0-9a-fA-F,_]*)')"
     ],
     "language": "python"
    },
    {
     "cell_type": "heading",
     "metadata": {},
     "level": 3,
     "source": [
      "Write data to CSV"
     ]
    },
    {
     "cell_type": "code",
     "metadata": {},
     "outputs": [],
     "input": [
      "es.to_csv(csv_file, REGEX, verbose=0)"
     ],
     "language": "python"
    },
    {
     "cell_type": "heading",
     "metadata": {},
     "level": 2,
     "source": [
      "Analysis"
     ]
    },
    {
     "cell_type": "code",
     "metadata": {},
     "outputs": [],
     "input": [
      "NOISE = 0.1\n",
      "LOWER_QUANTILE = NOISE / 2\n",
      "UPPER_QUANTILE = 1 - (NOISE / 2)"
     ],
     "language": "python"
    },
    {
     "cell_type": "heading",
     "metadata": {},
     "level": 3,
     "source": [
      "Read CSV file"
     ]
    },
    {
     "cell_type": "code",
     "metadata": {},
     "outputs": [],
     "input": [
      "df = pd.read_csv(csv_file)"
     ],
     "language": "python"
    },
    {
     "cell_type": "heading",
     "metadata": {},
     "level": 3,
     "source": [
      "Statistical data"
     ]
    },
    {
     "cell_type": "heading",
     "metadata": {},
     "level": 4,
     "source": [
      "Number of requests"
     ]
    },
    {
     "cell_type": "code",
     "metadata": {},
     "outputs": [],
     "input": [
      "df['Request'].count()"
     ],
     "language": "python"
    },
    {
     "cell_type": "heading",
     "metadata": {},
     "level": 4,
     "source": [
      "Time stats"
     ]
    },
    {
     "cell_type": "code",
     "metadata": {},
     "outputs": [],
     "input": [
      "df_without_noise = df[df.Time <= df.Time.quantile(UPPER_QUANTILE)]\n",
      "df_without_noise = df_without_noise[df.Time >= df.Time.quantile(LOWER_QUANTILE)]\n",
      "df_without_noise.reset_index()\n",
      "\n",
      "stats = {\n",
      "    'Sum': df_without_noise.Time.sum(),\n",
      "    'Mean': df_without_noise.Time.mean(),\n",
      "    'Std': df_without_noise.Time.std(),\n",
      "    'Min': df_without_noise.Time.min(),\n",
      "    'Max': df_without_noise.Time.max(),\n",
      "}\n",
      "\n",
      "pd.DataFrame(stats.values(), index=stats.keys(), columns=['Time'])"
     ],
     "language": "python"
    },
    {
     "cell_type": "heading",
     "metadata": {},
     "level": 3,
     "source": [
      "Requests stats"
     ]
    },
    {
     "cell_type": "code",
     "metadata": {},
     "outputs": [],
     "input": [
      "def _get_stats(x, functions):\n",
      "    x = x[x.Time >= x.Time.quantile(LOWER_QUANTILE)]\n",
      "    x = x[x.Time <= x.Time.quantile(UPPER_QUANTILE)]\n",
      "    values = []\n",
      "    index = []\n",
      "    for i, f in functions.items():\n",
      "        values.append(f(x.Time))\n",
      "        index.append(i)\n",
      "    return pd.Series(values, index=index)\n",
      "\n",
      "functions = OrderedDict((\n",
      "    ('Count By Week', len),\n",
      "    ('Count By Day', lambda x: len(x) / 5),\n",
      "    ('Mean', np.mean),\n",
      "    ('Std', np.std),\n",
      "    ('Max', np.max),\n",
      "    ('Min', np.min),\n",
      "    ('Sum', np.sum),\n",
      "    ('Median', np.median),\n",
      "))"
     ],
     "language": "python"
    },
    {
     "cell_type": "heading",
     "metadata": {},
     "level": 4,
     "source": [
      "Stats by each request"
     ]
    },
    {
     "cell_type": "code",
     "metadata": {},
     "outputs": [],
     "input": [
      "df.groupby('Request').apply(_get_stats, functions)"
     ],
     "language": "python"
    },
    {
     "cell_type": "heading",
     "metadata": {},
     "level": 4,
     "source": [
      "Stats by request and referrer"
     ]
    },
    {
     "cell_type": "code",
     "metadata": {},
     "outputs": [],
     "input": [
      "df.groupby(['Referrer', 'Request']).apply(_get_stats, functions)"
     ],
     "language": "python"
    }
   ]
  }
 ],
 "cells": [],
 "metadata": {
  "signature": "sha256:c649ba161d276f32b16b978b544edce696c4b65883d96fcb4031ab5c60808071"
 },
 "nbformat": 3,
 "nbformat_minor": 0
}