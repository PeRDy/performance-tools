{
 "worksheets": [
  {
   "cells": [
    {
     "cell_type": "code",
     "metadata": {},
     "outputs": [],
     "input": [
      "import os\n",
      "from performance_tools.digraph import Digraph"
     ],
     "language": "python",
     "prompt_number": 15
    },
    {
     "cell_type": "heading",
     "metadata": {},
     "level": 1,
     "source": [
      "Digraph"
     ]
    },
    {
     "cell_type": "heading",
     "metadata": {},
     "level": 2,
     "source": [
      "Create Digraph from CSV file"
     ]
    },
    {
     "cell_type": "code",
     "metadata": {},
     "outputs": [],
     "input": [
      "filename = os.path.realpath(os.path.join(os.path.abspath(__file__), 'digraph.csv'))\n",
      "dg = Digraph.from_csv(filename)"
     ],
     "language": "python",
     "prompt_number": 3
    },
    {
     "cell_type": "heading",
     "metadata": {},
     "level": 2,
     "source": [
      "Digraph vertices"
     ]
    },
    {
     "cell_type": "code",
     "metadata": {},
     "outputs": [
      {
       "output_type": "pyout",
       "text": [
        "{'/', '/bar', '/foo', '/foo/bar', 'None'}"
       ],
       "metadata": {}
      }
     ],
     "input": [
      "dg._vertices"
     ],
     "language": "python",
     "prompt_number": 18
    },
    {
     "cell_type": "heading",
     "metadata": {},
     "level": 2,
     "source": [
      "Digraph arcs"
     ]
    },
    {
     "cell_type": "code",
     "metadata": {},
     "outputs": [
      {
       "output_type": "pyout",
       "text": [
        "array([[0, 1, 0, 0, 1],\n       [0, 0, 0, 0, 2],\n       [1, 0, 0, 1, 0],\n       [3, 1, 0, 0, 1],\n       [0, 0, 0, 0, 0]], dtype=int8)"
       ],
       "metadata": {}
      }
     ],
     "input": [
      "dg._arcs"
     ],
     "language": "python",
     "prompt_number": 21
    },
    {
     "cell_type": "heading",
     "metadata": {},
     "level": 2,
     "source": [
      "Draw Digraph using Graphviz"
     ]
    },
    {
     "cell_type": "code",
     "metadata": {},
     "outputs": [],
     "input": [
      "dg.draw('examples/digraph.pdf', relative_value=True)"
     ],
     "language": "python",
     "prompt_number": 4
    },
    {
     "cell_type": "heading",
     "metadata": {},
     "level": 2,
     "source": [
      "Calculate all paths between two vertices"
     ]
    },
    {
     "cell_type": "code",
     "metadata": {},
     "outputs": [
      {
       "output_type": "pyout",
       "text": [
        "[['None', '/foo', '/bar', '/foo/bar'],\n ['None', '/foo', '/foo/bar'],\n ['None', '/', '/foo', '/bar', '/foo/bar'],\n ['None', '/', '/foo', '/foo/bar'],\n ['None', '/', '/bar', '/foo/bar'],\n ['None', '/', '/foo/bar']]"
       ],
       "metadata": {}
      }
     ],
     "input": [
      "dg.all_paths('None', '/foo/bar')"
     ],
     "language": "python",
     "prompt_number": 5
    },
    {
     "cell_type": "heading",
     "metadata": {},
     "level": 2,
     "source": [
      "Draw all these paths in different files using Graphviz"
     ]
    },
    {
     "cell_type": "code",
     "metadata": {},
     "outputs": [],
     "input": [
      "dg.draw_all_paths('None', '/foo/bar', 'examples/digraph.pdf', relative_value=True)"
     ],
     "language": "python",
     "prompt_number": 6
    },
    {
     "cell_type": "heading",
     "metadata": {},
     "level": 2,
     "source": [
      "Subgraph"
     ]
    },
    {
     "cell_type": "heading",
     "metadata": {},
     "level": 3,
     "source": [
      "Create subgraph from current digraph"
     ]
    },
    {
     "cell_type": "code",
     "metadata": {},
     "outputs": [],
     "input": [
      "vertices = {'None', '/', '/foo/bar'}\n",
      "sub_dg = dg.subgraph(vertices)"
     ],
     "language": "python",
     "prompt_number": 16
    },
    {
     "cell_type": "heading",
     "metadata": {},
     "level": 3,
     "source": [
      "Subgraph vertices"
     ]
    },
    {
     "cell_type": "code",
     "metadata": {},
     "outputs": [
      {
       "output_type": "pyout",
       "text": [
        "{'/', '/foo/bar', 'None'}"
       ],
       "metadata": {}
      }
     ],
     "input": [
      "sub_dg._vertices"
     ],
     "language": "python",
     "prompt_number": 19
    },
    {
     "cell_type": "heading",
     "metadata": {},
     "level": 3,
     "source": [
      "Subgraph arcs"
     ]
    },
    {
     "cell_type": "code",
     "metadata": {},
     "outputs": [
      {
       "output_type": "pyout",
       "text": [
        "array([[0, 1, 0],\n       [0, 0, 1],\n       [0, 0, 0]], dtype=int8)"
       ],
       "metadata": {}
      }
     ],
     "input": [
      "sub_dg._arcs"
     ],
     "language": "python",
     "prompt_number": 20
    }
   ]
  }
 ],
 "cells": [],
 "metadata": {},
 "nbformat": 3,
 "nbformat_minor": 0
}